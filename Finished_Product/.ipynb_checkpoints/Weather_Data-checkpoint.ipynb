{
 "cells": [
  {
   "cell_type": "code",
   "execution_count": 2,
   "metadata": {},
   "outputs": [],
   "source": [
    "import pandas as pd\n",
    "import requests\n",
    "from bs4 import BeautifulSoup as bs\n",
    "from datetime import datetime "
   ]
  },
  {
   "cell_type": "code",
   "execution_count": 3,
   "metadata": {},
   "outputs": [],
   "source": [
    "#stadiums = pd.read_csv('../Dylan/stadium_data.csv')"
   ]
  },
  {
   "cell_type": "code",
   "execution_count": 4,
   "metadata": {},
   "outputs": [],
   "source": [
    "#print(stadiums.count())\n",
    "#stadiums.head()"
   ]
  },
  {
   "cell_type": "code",
   "execution_count": 5,
   "metadata": {},
   "outputs": [],
   "source": [
    "#locs = []\n",
    "#states = stadiums['State']\n",
    "#count = 0\n",
    "#for state in states:\n",
    "#    if(state == \" D.C.\"):\n",
    "#        locs.append(count)\n",
    "#    count = count + 1\n",
    "#print(locs)"
   ]
  },
  {
   "cell_type": "code",
   "execution_count": 6,
   "metadata": {},
   "outputs": [],
   "source": [
    "games = pd.read_csv('../Shawn/mls_2018.csv')"
   ]
  },
  {
   "cell_type": "code",
   "execution_count": 7,
   "metadata": {},
   "outputs": [],
   "source": [
    "dt = games['Date'].apply(lambda x: datetime.strptime(x,'%m/%d/%y'))"
   ]
  },
  {
   "cell_type": "code",
   "execution_count": 8,
   "metadata": {},
   "outputs": [],
   "source": [
    "games = games.assign(date2 = dt)"
   ]
  },
  {
   "cell_type": "code",
   "execution_count": 9,
   "metadata": {},
   "outputs": [
    {
     "name": "stdout",
     "output_type": "stream",
     "text": [
      "['Toronto' 'Houston' 'Philadelphia' 'Orlando' 'Dallas' 'San Jose'\n",
      " 'Seattle' 'Vancouver' 'Kansas City' 'Los Angeles' 'Columbus'\n",
      " 'New England' 'Salt Lake' 'Chicago' 'New Jersey' 'Atlanta' 'NYC'\n",
      " 'Washington, D.C.' 'Minnesota' 'Montreal' 'Colorado' 'Portland'\n",
      " 'Los Angles']\n"
     ]
    }
   ],
   "source": [
    "games = games.replace(\"HOU/SJ\", \"Houston\")\n",
    "games = games.replace(\"DC United\", \"Washington, D.C.\")\n",
    "games = games.replace(\"NJ/NY\", \"New Jersey\")\n",
    "games = games.replace(\"NYCFC\", \"NYC\")\n",
    "games = games.replace(\"LAFC\", \"Los Angles\")\n",
    "print(games[\"City\"].unique())"
   ]
  },
  {
   "cell_type": "code",
   "execution_count": 10,
   "metadata": {},
   "outputs": [],
   "source": [
    "#key = 'b1651c7fc8fe481c9d810916200605'\n",
    "#url = 'http://api.worldweatheronline.com/premium/v1/past-weather.ashx?q='\n",
    "#url2 = '&format=json&key=b1651c7fc8fe481c9d810916200605'\n",
    "#temps = []\n",
    "\n",
    "#location = \"New England\"\n",
    "#response = requests.get(url+location+url2).json()\n",
    "#temp = response[\"data\"][\"weather\"][0][\"maxtempF\"]\n",
    "#temps.append(temp)\n",
    "#print(temps)"
   ]
  },
  {
   "cell_type": "code",
   "execution_count": 11,
   "metadata": {},
   "outputs": [],
   "source": [
    "key = 'b1651c7fc8fe481c9d810916200605'\n",
    "url = 'http://api.worldweatheronline.com/premium/v1/past-weather.ashx?q='\n",
    "url2 = '&format=json&key=b1651c7fc8fe481c9d810916200605'\n",
    "temps = []\n",
    "\n",
    "for x in range(0, 391):\n",
    "    location = games[\"City\"][x]\n",
    "    date = '&date=' + str(games[\"date2\"][x])\n",
    "    response = requests.get(url+location+date+url2).json()\n",
    "    temp = response[\"data\"][\"weather\"][0][\"maxtempF\"]\n",
    "    temps.append(temp)"
   ]
  },
  {
   "cell_type": "code",
   "execution_count": 15,
   "metadata": {},
   "outputs": [
    {
     "name": "stdout",
     "output_type": "stream",
     "text": [
      "391\n"
     ]
    },
    {
     "data": {
      "text/plain": [
       "City          391\n",
       "Date          391\n",
       "max_temp_f    391\n",
       "dtype: int64"
      ]
     },
     "execution_count": 15,
     "metadata": {},
     "output_type": "execute_result"
    }
   ],
   "source": [
    "weather = games[['City', 'date2']]\n",
    "print(len(temps))\n",
    "weather = weather.assign(max_temp_f = temps)\n",
    "weather = weather.rename(columns={\"date2\": \"Date\"})\n",
    "weather.count()"
   ]
  },
  {
   "cell_type": "code",
   "execution_count": 14,
   "metadata": {},
   "outputs": [],
   "source": [
    "weather.to_csv('weather.csv')"
   ]
  }
 ],
 "metadata": {
  "kernelspec": {
   "display_name": "Python 3",
   "language": "python",
   "name": "python3"
  },
  "language_info": {
   "codemirror_mode": {
    "name": "ipython",
    "version": 3
   },
   "file_extension": ".py",
   "mimetype": "text/x-python",
   "name": "python",
   "nbconvert_exporter": "python",
   "pygments_lexer": "ipython3",
   "version": "3.7.4"
  }
 },
 "nbformat": 4,
 "nbformat_minor": 2
}
