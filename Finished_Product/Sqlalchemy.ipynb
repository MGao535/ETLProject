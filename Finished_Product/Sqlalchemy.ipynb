{
 "cells": [
  {
   "cell_type": "markdown",
   "metadata": {},
   "source": [
    "# Import Dependencies "
   ]
  },
  {
   "cell_type": "code",
   "execution_count": 1,
   "metadata": {},
   "outputs": [],
   "source": [
    "import pandas as pd\n",
    "from sqlalchemy import create_engine\n",
    "import datetime"
   ]
  },
  {
   "cell_type": "markdown",
   "metadata": {},
   "source": [
    "# Create Connection"
   ]
  },
  {
   "cell_type": "code",
   "execution_count": 8,
   "metadata": {},
   "outputs": [],
   "source": [
    "# Create connection\n",
    "connection_string = \"postgres:postgres@localhost:5432/ETL_test\"\n",
    "engine = create_engine(f'postgresql://{connection_string}')"
   ]
  },
  {
   "cell_type": "markdown",
   "metadata": {},
   "source": [
    "# Create Tables "
   ]
  },
  {
   "cell_type": "code",
   "execution_count": 38,
   "metadata": {},
   "outputs": [],
   "source": [
    "results = pd.read_csv('mls_sql_2018.csv')\n",
    "stadiums = pd.read_csv('stadium_data.csv')\n",
    "weather = pd.read_csv('weather.csv')"
   ]
  },
  {
   "cell_type": "markdown",
   "metadata": {},
   "source": [
    "# If the Tables in SQL exisit, Fill them up "
   ]
  },
  {
   "cell_type": "code",
   "execution_count": 67,
   "metadata": {},
   "outputs": [],
   "source": [
    "results.drop(['Unnamed: 0'], axis = 1 ).to_sql(name='game_results', con=engine, if_exists='append', index=True)\n",
    "stadiums.drop(['Unnamed: 0'], axis = 1 ).to_sql(name='stadiums', con=engine, if_exists='append', index=True)\n",
    "weather.drop(['Unnamed: 0'], axis = 1).to_sql(name='weather', con=engine, if_exists='append', index=True)"
   ]
  },
  {
   "cell_type": "markdown",
   "metadata": {},
   "source": [
    "# Sample QUERY using Stadium ID"
   ]
  },
  {
   "cell_type": "code",
   "execution_count": 77,
   "metadata": {},
   "outputs": [
    {
     "name": "stdout",
     "output_type": "stream",
     "text": [
      "(datetime.date(2018, 4, 29), 'Los Angles', 'Los Angeles', '22,000', 22000, '100%', 'Banc of California Stadium', 65)\n",
      "(datetime.date(2018, 5, 5), 'Los Angles', 'Los Angeles', '22,000', 22000, '100%', 'Banc of California Stadium', 61)\n",
      "(datetime.date(2018, 5, 9), 'Los Angles', 'Los Angeles', '22,000', 22000, '100%', 'Banc of California Stadium', 70)\n",
      "(datetime.date(2018, 5, 13), 'Los Angles', 'Los Angeles', '22,000', 22000, '100%', 'Banc of California Stadium', 62)\n",
      "(datetime.date(2018, 5, 26), 'Los Angles', 'Los Angeles', '22,000', 22000, '100%', 'Banc of California Stadium', 65)\n",
      "(datetime.date(2018, 6, 23), 'Los Angles', 'Los Angeles', '22,000', 22000, '100%', 'Banc of California Stadium', 52)\n",
      "(datetime.date(2018, 6, 30), 'Los Angles', 'Los Angeles', '22,000', 22000, '100%', 'Banc of California Stadium', 64)\n",
      "(datetime.date(2018, 7, 7), 'Los Angles', 'Los Angeles', '22,000', 22000, '100%', 'Banc of California Stadium', 51)\n",
      "(datetime.date(2018, 7, 15), 'Los Angles', 'Los Angeles', '22,000', 22000, '100%', 'Banc of California Stadium', 52)\n",
      "(datetime.date(2018, 7, 26), 'Los Angles', 'Los Angeles', '22,716', 22000, '103%', 'Banc of California Stadium', 56)\n",
      "(datetime.date(2018, 8, 11), 'Los Angles', 'Los Angeles', '22,000', 22000, '100%', 'Banc of California Stadium', 56)\n",
      "(datetime.date(2018, 8, 15), 'Los Angles', 'Los Angeles', '22,000', 22000, '100%', 'Banc of California Stadium', 58)\n",
      "(datetime.date(2018, 8, 19), 'Los Angles', 'Los Angeles', '22,000', 22000, '100%', 'Banc of California Stadium', 48)\n",
      "(datetime.date(2018, 9, 15), 'Los Angles', 'Los Angeles', '22,000', 22000, '100%', 'Banc of California Stadium', 65)\n",
      "(datetime.date(2018, 9, 22), 'Los Angles', 'Los Angeles', '22,000', 22000, '100%', 'Banc of California Stadium', 69)\n",
      "(datetime.date(2018, 10, 12), 'Los Angles', 'Los Angeles', '22,000', 22000, '100%', 'Banc of California Stadium', 58)\n",
      "(datetime.date(2018, 10, 21), 'Los Angles', 'Los Angeles', '22,000', 22000, '100%', 'Banc of California Stadium', 61)\n"
     ]
    }
   ],
   "source": [
    "LA = engine.execute('SELECT game_results.\"Date\", game_results.\"Home_Team\", stadiums.\"City\", game_results.\"Attendance\", stadiums.\"Capacity\", game_results.\"Percentage_Filled\", stadiums.\"Stadium\", weather.\"max_temp_f\" FROM game_results JOIN stadiums ON stadiums.index = game_results.\"Stadium_ID\" JOIN weather ON weather.\"Date\" = game_results.\"Date\" AND weather.\"City\" = game_results.\"City\" WHERE game_results.\"Stadium_ID\" = 2')\n",
    "for i in LA:\n",
    "    print(i)"
   ]
  },
  {
   "cell_type": "markdown",
   "metadata": {},
   "source": [
    "# Sample QUERY using Stadium ID"
   ]
  },
  {
   "cell_type": "code",
   "execution_count": 83,
   "metadata": {},
   "outputs": [
    {
     "name": "stdout",
     "output_type": "stream",
     "text": [
      "(datetime.date(2018, 3, 3), 'Toronto FC', 'Toronto', '26,633', 28351, '89%', 'BMO Field', 36)\n",
      "(datetime.date(2018, 3, 30), 'Toronto FC', 'Toronto', '28,006', 28351, '93%', 'BMO Field', 40)\n",
      "(datetime.date(2018, 4, 28), 'Toronto FC', 'Toronto', '26,331', 28351, '88%', 'BMO Field', 45)\n",
      "(datetime.date(2018, 5, 4), 'Toronto FC', 'Toronto', '24,728', 28351, '82%', 'BMO Field', 66)\n",
      "(datetime.date(2018, 5, 9), 'Toronto FC', 'Toronto', '26,089', 28351, '87%', 'BMO Field', 65)\n",
      "(datetime.date(2018, 5, 18), 'Toronto FC', 'Toronto', '28,009', 28351, '93%', 'BMO Field', 55)\n",
      "(datetime.date(2018, 5, 25), 'Toronto FC', 'Toronto', '27,549', 28351, '92%', 'BMO Field', 74)\n",
      "(datetime.date(2018, 6, 13), 'Toronto FC', 'Toronto', '23,011', 28351, '77%', 'BMO Field', 73)\n",
      "(datetime.date(2018, 7, 1), 'Toronto FC', 'Toronto', '26,363', 28351, '88%', 'BMO Field', 85)\n",
      "(datetime.date(2018, 7, 28), 'Toronto FC', 'Toronto', '29,190', 28351, '97%', 'BMO Field', 73)\n",
      "(datetime.date(2018, 8, 12), 'Toronto FC', 'Toronto', '27,935', 28351, '93%', 'BMO Field', 81)\n",
      "(datetime.date(2018, 8, 25), 'Toronto FC', 'Toronto', '27,294', 28351, '91%', 'BMO Field', 77)\n",
      "(datetime.date(2018, 9, 1), 'Toronto FC', 'Toronto', '28,247', 28351, '94%', 'BMO Field', 84)\n",
      "(datetime.date(2018, 9, 15), 'Toronto FC', 'Toronto', '30,799', 28351, '103%', 'BMO Field', 83)\n",
      "(datetime.date(2018, 9, 29), 'Toronto FC', 'Toronto', '24,710', 28351, '82%', 'BMO Field', 60)\n",
      "(datetime.date(2018, 10, 6), 'Toronto FC', 'Toronto', '23,886', 28351, '80%', 'BMO Field', 70)\n",
      "(datetime.date(2018, 10, 28), 'Toronto FC', 'Toronto', '23,895', 28351, '80%', 'BMO Field', 44)\n"
     ]
    }
   ],
   "source": [
    "toronto = engine.execute('SELECT game_results.\"Date\", game_results.\"Home_Team\", stadiums.\"City\", game_results.\"Attendance\", stadiums.\"Capacity\", game_results.\"Percentage_Filled\", stadiums.\"Stadium\", weather.\"max_temp_f\" FROM game_results JOIN stadiums ON stadiums.index = game_results.\"Stadium_ID\" JOIN weather ON weather.\"Date\" = game_results.\"Date\" AND weather.\"City\" = game_results.\"City\" WHERE game_results.\"City\" = \\'Toronto\\'')\n",
    "for i in toronto:\n",
    "    print(i)"
   ]
  }
 ],
 "metadata": {
  "kernelspec": {
   "display_name": "Python 3",
   "language": "python",
   "name": "python3"
  },
  "language_info": {
   "codemirror_mode": {
    "name": "ipython",
    "version": 3
   },
   "file_extension": ".py",
   "mimetype": "text/x-python",
   "name": "python",
   "nbconvert_exporter": "python",
   "pygments_lexer": "ipython3",
   "version": "3.7.4"
  }
 },
 "nbformat": 4,
 "nbformat_minor": 2
}
