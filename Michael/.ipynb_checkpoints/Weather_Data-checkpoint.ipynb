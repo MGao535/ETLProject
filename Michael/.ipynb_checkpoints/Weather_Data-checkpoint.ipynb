{
 "cells": [
  {
   "cell_type": "code",
   "execution_count": 1,
   "metadata": {},
   "outputs": [],
   "source": [
    "import pandas as pd\n",
    "import requests\n",
    "from bs4 import BeautifulSoup as bs\n",
    "from datetime import datetime "
   ]
  },
  {
   "cell_type": "code",
   "execution_count": 2,
   "metadata": {},
   "outputs": [],
   "source": [
    "stadiums = pd.read_csv('../Dylan/stadium_data.csv')"
   ]
  },
  {
   "cell_type": "code",
   "execution_count": 17,
   "metadata": {},
   "outputs": [
    {
     "name": "stdout",
     "output_type": "stream",
     "text": [
      "Unnamed: 0      62\n",
      "Stadium         62\n",
      "Franchise(s)    62\n",
      "Capacity        61\n",
      "Surface         61\n",
      "Roof Type       62\n",
      "City            62\n",
      "State           39\n",
      "dtype: int64\n"
     ]
    },
    {
     "data": {
      "text/html": [
       "<div>\n",
       "<style scoped>\n",
       "    .dataframe tbody tr th:only-of-type {\n",
       "        vertical-align: middle;\n",
       "    }\n",
       "\n",
       "    .dataframe tbody tr th {\n",
       "        vertical-align: top;\n",
       "    }\n",
       "\n",
       "    .dataframe thead th {\n",
       "        text-align: right;\n",
       "    }\n",
       "</style>\n",
       "<table border=\"1\" class=\"dataframe\">\n",
       "  <thead>\n",
       "    <tr style=\"text-align: right;\">\n",
       "      <th></th>\n",
       "      <th>Unnamed: 0</th>\n",
       "      <th>Stadium</th>\n",
       "      <th>Franchise(s)</th>\n",
       "      <th>Capacity</th>\n",
       "      <th>Surface</th>\n",
       "      <th>Roof Type</th>\n",
       "      <th>City</th>\n",
       "      <th>State</th>\n",
       "    </tr>\n",
       "  </thead>\n",
       "  <tbody>\n",
       "    <tr>\n",
       "      <th>0</th>\n",
       "      <td>0</td>\n",
       "      <td>Allianz Field</td>\n",
       "      <td>Minnesota United FC</td>\n",
       "      <td>19400.0</td>\n",
       "      <td>Grass</td>\n",
       "      <td>Open</td>\n",
       "      <td>Saint Paul</td>\n",
       "      <td>Minnesota</td>\n",
       "    </tr>\n",
       "    <tr>\n",
       "      <th>1</th>\n",
       "      <td>1</td>\n",
       "      <td>Audi Field</td>\n",
       "      <td>D.C. United</td>\n",
       "      <td>20000.0</td>\n",
       "      <td>Grass</td>\n",
       "      <td>Open</td>\n",
       "      <td>Washington</td>\n",
       "      <td>D.C.</td>\n",
       "    </tr>\n",
       "    <tr>\n",
       "      <th>2</th>\n",
       "      <td>2</td>\n",
       "      <td>Banc of California Stadium</td>\n",
       "      <td>Los Angeles FC</td>\n",
       "      <td>22000.0</td>\n",
       "      <td>Grass</td>\n",
       "      <td>Open</td>\n",
       "      <td>Los Angeles</td>\n",
       "      <td>NaN</td>\n",
       "    </tr>\n",
       "    <tr>\n",
       "      <th>3</th>\n",
       "      <td>3</td>\n",
       "      <td>BBVA Stadium</td>\n",
       "      <td>Houston Dynamo</td>\n",
       "      <td>22039.0</td>\n",
       "      <td>Grass</td>\n",
       "      <td>Open</td>\n",
       "      <td>Houston</td>\n",
       "      <td>NaN</td>\n",
       "    </tr>\n",
       "    <tr>\n",
       "      <th>4</th>\n",
       "      <td>4</td>\n",
       "      <td>BC Place</td>\n",
       "      <td>Vancouver Whitecaps FC</td>\n",
       "      <td>22120.0</td>\n",
       "      <td>Polytan</td>\n",
       "      <td>Retractable</td>\n",
       "      <td>Vancouver</td>\n",
       "      <td>NaN</td>\n",
       "    </tr>\n",
       "  </tbody>\n",
       "</table>\n",
       "</div>"
      ],
      "text/plain": [
       "   Unnamed: 0                     Stadium            Franchise(s)  Capacity  \\\n",
       "0           0               Allianz Field     Minnesota United FC   19400.0   \n",
       "1           1                  Audi Field             D.C. United   20000.0   \n",
       "2           2  Banc of California Stadium          Los Angeles FC   22000.0   \n",
       "3           3                BBVA Stadium          Houston Dynamo   22039.0   \n",
       "4           4                    BC Place  Vancouver Whitecaps FC   22120.0   \n",
       "\n",
       "   Surface    Roof Type         City       State  \n",
       "0    Grass         Open   Saint Paul   Minnesota  \n",
       "1    Grass         Open   Washington        D.C.  \n",
       "2    Grass         Open  Los Angeles         NaN  \n",
       "3    Grass         Open      Houston         NaN  \n",
       "4  Polytan  Retractable    Vancouver         NaN  "
      ]
     },
     "execution_count": 17,
     "metadata": {},
     "output_type": "execute_result"
    }
   ],
   "source": [
    "print(stadiums.count())\n",
    "stadiums.head()"
   ]
  },
  {
   "cell_type": "code",
   "execution_count": 24,
   "metadata": {},
   "outputs": [
    {
     "name": "stdout",
     "output_type": "stream",
     "text": [
      "[1, 42]\n"
     ]
    }
   ],
   "source": [
    "locs = []\n",
    "states = stadiums['State']\n",
    "count = 0\n",
    "for state in states:\n",
    "    if(state == \" D.C.\"):\n",
    "        locs.append(count)\n",
    "    count = count + 1\n",
    "print(locs)"
   ]
  },
  {
   "cell_type": "code",
   "execution_count": 100,
   "metadata": {},
   "outputs": [],
   "source": [
    "games = pd.read_csv('../Shawn/mls_2018.csv')"
   ]
  },
  {
   "cell_type": "code",
   "execution_count": 101,
   "metadata": {},
   "outputs": [],
   "source": [
    "dt = games['Date'].apply(lambda x: datetime.strptime(x,'%m/%d/%y'))"
   ]
  },
  {
   "cell_type": "code",
   "execution_count": 102,
   "metadata": {},
   "outputs": [],
   "source": [
    "games = games.assign(date2 = dt)"
   ]
  },
  {
   "cell_type": "code",
   "execution_count": 105,
   "metadata": {},
   "outputs": [
    {
     "name": "stdout",
     "output_type": "stream",
     "text": [
      "['Toronto' 'Houston' 'Philadelphia' 'Orlando' 'Dallas' 'San Jose'\n",
      " 'Seattle' 'Vancouver' 'Kansas City' 'Los Angeles' 'Columbus'\n",
      " 'New England' 'Salt Lake' 'Chicago' 'New Jersey' 'Atlanta' 'NYC'\n",
      " 'Washington, D.C.' 'Minnesota' 'Montreal' 'Colorado' 'Portland'\n",
      " 'Los Angles']\n"
     ]
    }
   ],
   "source": [
    "games = games.replace(\"HOU/SJ\", \"Houston\")\n",
    "games = games.replace(\"DC United\", \"Washington, D.C.\")\n",
    "games = games.replace(\"NJ/NY\", \"New Jersey\")\n",
    "games = games.replace(\"NYCFC\", \"NYC\")\n",
    "games = games.replace(\"LAFC\", \"Los Angles\")\n",
    "print(games[\"City\"].unique())"
   ]
  },
  {
   "cell_type": "code",
   "execution_count": 106,
   "metadata": {},
   "outputs": [
    {
     "name": "stdout",
     "output_type": "stream",
     "text": [
      "['84']\n"
     ]
    }
   ],
   "source": [
    "key = 'b1651c7fc8fe481c9d810916200605'\n",
    "url = 'http://api.worldweatheronline.com/premium/v1/past-weather.ashx?q='\n",
    "url2 = '&format=json&key=b1651c7fc8fe481c9d810916200605'\n",
    "temps = []\n",
    "\n",
    "location = \"New England\"\n",
    "response = requests.get(url+location+url2).json()\n",
    "temp = response[\"data\"][\"weather\"][0][\"maxtempF\"]\n",
    "temps.append(temp)\n",
    "print(temps)"
   ]
  },
  {
   "cell_type": "code",
   "execution_count": 107,
   "metadata": {},
   "outputs": [],
   "source": [
    "key = 'b1651c7fc8fe481c9d810916200605'\n",
    "url = 'http://api.worldweatheronline.com/premium/v1/past-weather.ashx?q='\n",
    "url2 = '&format=json&key=b1651c7fc8fe481c9d810916200605'\n",
    "temps = []\n",
    "\n",
    "for x in range(0, 391):\n",
    "    location = games[\"City\"][x]\n",
    "    date = '&date=' + str(games[\"date2\"][x])\n",
    "    response = requests.get(url+location+date+url2).json()\n",
    "    temp = response[\"data\"][\"weather\"][0][\"maxtempF\"]\n",
    "    temps.append(temp)"
   ]
  },
  {
   "cell_type": "code",
   "execution_count": 108,
   "metadata": {},
   "outputs": [
    {
     "name": "stdout",
     "output_type": "stream",
     "text": [
      "391\n"
     ]
    },
    {
     "data": {
      "text/html": [
       "<div>\n",
       "<style scoped>\n",
       "    .dataframe tbody tr th:only-of-type {\n",
       "        vertical-align: middle;\n",
       "    }\n",
       "\n",
       "    .dataframe tbody tr th {\n",
       "        vertical-align: top;\n",
       "    }\n",
       "\n",
       "    .dataframe thead th {\n",
       "        text-align: right;\n",
       "    }\n",
       "</style>\n",
       "<table border=\"1\" class=\"dataframe\">\n",
       "  <thead>\n",
       "    <tr style=\"text-align: right;\">\n",
       "      <th></th>\n",
       "      <th>City</th>\n",
       "      <th>date2</th>\n",
       "      <th>weather</th>\n",
       "    </tr>\n",
       "  </thead>\n",
       "  <tbody>\n",
       "    <tr>\n",
       "      <th>0</th>\n",
       "      <td>Toronto</td>\n",
       "      <td>2018-03-03</td>\n",
       "      <td>36</td>\n",
       "    </tr>\n",
       "    <tr>\n",
       "      <th>1</th>\n",
       "      <td>Houston</td>\n",
       "      <td>2018-03-03</td>\n",
       "      <td>72</td>\n",
       "    </tr>\n",
       "    <tr>\n",
       "      <th>2</th>\n",
       "      <td>Philadelphia</td>\n",
       "      <td>2018-03-03</td>\n",
       "      <td>45</td>\n",
       "    </tr>\n",
       "    <tr>\n",
       "      <th>3</th>\n",
       "      <td>Orlando</td>\n",
       "      <td>2018-03-03</td>\n",
       "      <td>71</td>\n",
       "    </tr>\n",
       "    <tr>\n",
       "      <th>4</th>\n",
       "      <td>Dallas</td>\n",
       "      <td>2018-03-03</td>\n",
       "      <td>71</td>\n",
       "    </tr>\n",
       "  </tbody>\n",
       "</table>\n",
       "</div>"
      ],
      "text/plain": [
       "           City      date2 weather\n",
       "0       Toronto 2018-03-03      36\n",
       "1       Houston 2018-03-03      72\n",
       "2  Philadelphia 2018-03-03      45\n",
       "3       Orlando 2018-03-03      71\n",
       "4        Dallas 2018-03-03      71"
      ]
     },
     "execution_count": 108,
     "metadata": {},
     "output_type": "execute_result"
    }
   ],
   "source": [
    "weather = games[['City', 'date2']]\n",
    "print(len(temps))\n",
    "weather = weather.assign(weather = temps)\n",
    "weather.head(5)"
   ]
  },
  {
   "cell_type": "code",
   "execution_count": 129,
   "metadata": {},
   "outputs": [
    {
     "name": "stdout",
     "output_type": "stream",
     "text": [
      "0.0\n"
     ]
    }
   ],
   "source": [
    "print(response[\"data\"][\"weather\"][0][\"totalSnow_cm\"])"
   ]
  }
 ],
 "metadata": {
  "kernelspec": {
   "display_name": "Python 3",
   "language": "python",
   "name": "python3"
  },
  "language_info": {
   "codemirror_mode": {
    "name": "ipython",
    "version": 3
   },
   "file_extension": ".py",
   "mimetype": "text/x-python",
   "name": "python",
   "nbconvert_exporter": "python",
   "pygments_lexer": "ipython3",
   "version": "3.6.5"
  }
 },
 "nbformat": 4,
 "nbformat_minor": 2
}
