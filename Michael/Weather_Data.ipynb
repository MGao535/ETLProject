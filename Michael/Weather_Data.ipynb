{
 "cells": [
  {
   "cell_type": "code",
   "execution_count": 2,
   "metadata": {},
   "outputs": [],
   "source": [
    "import pandas as pd\n",
    "import requests\n",
    "from bs4 import BeautifulSoup as bs\n",
    "from datetime import datetime "
   ]
  },
  {
   "cell_type": "code",
   "execution_count": 3,
   "metadata": {},
   "outputs": [],
   "source": [
    "#stadiums = pd.read_csv('../Dylan/stadium_data.csv')"
   ]
  },
  {
   "cell_type": "code",
   "execution_count": 4,
   "metadata": {},
   "outputs": [],
   "source": [
    "#print(stadiums.count())\n",
    "#stadiums.head()"
   ]
  },
  {
   "cell_type": "code",
   "execution_count": 5,
   "metadata": {},
   "outputs": [],
   "source": [
    "#locs = []\n",
    "#states = stadiums['State']\n",
    "#count = 0\n",
    "#for state in states:\n",
    "#    if(state == \" D.C.\"):\n",
    "#        locs.append(count)\n",
    "#    count = count + 1\n",
    "#print(locs)"
   ]
  },
  {
   "cell_type": "code",
   "execution_count": 6,
   "metadata": {},
   "outputs": [],
   "source": [
    "games = pd.read_csv('../Shawn/mls_2018.csv')"
   ]
  },
  {
   "cell_type": "code",
   "execution_count": 7,
   "metadata": {},
   "outputs": [],
   "source": [
    "dt = games['Date'].apply(lambda x: datetime.strptime(x,'%m/%d/%y'))"
   ]
  },
  {
   "cell_type": "code",
   "execution_count": 8,
   "metadata": {},
   "outputs": [],
   "source": [
    "games = games.assign(date2 = dt)"
   ]
  },
  {
   "cell_type": "code",
   "execution_count": 9,
   "metadata": {},
   "outputs": [
    {
     "name": "stdout",
     "output_type": "stream",
     "text": [
      "['Toronto' 'Houston' 'Philadelphia' 'Orlando' 'Dallas' 'San Jose'\n",
      " 'Seattle' 'Vancouver' 'Kansas City' 'Los Angeles' 'Columbus'\n",
      " 'New England' 'Salt Lake' 'Chicago' 'New Jersey' 'Atlanta' 'NYC'\n",
      " 'Washington, D.C.' 'Minnesota' 'Montreal' 'Colorado' 'Portland'\n",
      " 'Los Angles']\n"
     ]
    }
   ],
   "source": [
    "games = games.replace(\"HOU/SJ\", \"Houston\")\n",
    "games = games.replace(\"DC United\", \"Washington, D.C.\")\n",
    "games = games.replace(\"NJ/NY\", \"New Jersey\")\n",
    "games = games.replace(\"NYCFC\", \"NYC\")\n",
    "games = games.replace(\"LAFC\", \"Los Angles\")\n",
    "print(games[\"City\"].unique())"
   ]
  },
  {
   "cell_type": "code",
   "execution_count": 10,
   "metadata": {},
   "outputs": [],
   "source": [
    "#key = 'b1651c7fc8fe481c9d810916200605'\n",
    "#url = 'http://api.worldweatheronline.com/premium/v1/past-weather.ashx?q='\n",
    "#url2 = '&format=json&key=b1651c7fc8fe481c9d810916200605'\n",
    "#temps = []\n",
    "\n",
    "#location = \"New England\"\n",
    "#response = requests.get(url+location+url2).json()\n",
    "#temp = response[\"data\"][\"weather\"][0][\"maxtempF\"]\n",
    "#temps.append(temp)\n",
    "#print(temps)"
   ]
  },
  {
   "cell_type": "code",
   "execution_count": 11,
   "metadata": {},
   "outputs": [],
   "source": [
    "key = 'b1651c7fc8fe481c9d810916200605'\n",
    "url = 'http://api.worldweatheronline.com/premium/v1/past-weather.ashx?q='\n",
    "url2 = '&format=json&key=b1651c7fc8fe481c9d810916200605'\n",
    "temps = []\n",
    "\n",
    "for x in range(0, 391):\n",
    "    location = games[\"City\"][x]\n",
    "    date = '&date=' + str(games[\"date2\"][x])\n",
    "    response = requests.get(url+location+date+url2).json()\n",
    "    temp = response[\"data\"][\"weather\"][0][\"maxtempF\"]\n",
    "    temps.append(temp)"
   ]
  },
  {
   "cell_type": "code",
   "execution_count": 12,
   "metadata": {},
   "outputs": [
    {
     "name": "stdout",
     "output_type": "stream",
     "text": [
      "391\n"
     ]
    },
    {
     "data": {
      "text/html": [
       "<div>\n",
       "<style scoped>\n",
       "    .dataframe tbody tr th:only-of-type {\n",
       "        vertical-align: middle;\n",
       "    }\n",
       "\n",
       "    .dataframe tbody tr th {\n",
       "        vertical-align: top;\n",
       "    }\n",
       "\n",
       "    .dataframe thead th {\n",
       "        text-align: right;\n",
       "    }\n",
       "</style>\n",
       "<table border=\"1\" class=\"dataframe\">\n",
       "  <thead>\n",
       "    <tr style=\"text-align: right;\">\n",
       "      <th></th>\n",
       "      <th>City</th>\n",
       "      <th>Date</th>\n",
       "      <th>max_temp_f</th>\n",
       "    </tr>\n",
       "  </thead>\n",
       "  <tbody>\n",
       "    <tr>\n",
       "      <th>0</th>\n",
       "      <td>Toronto</td>\n",
       "      <td>2018-03-03</td>\n",
       "      <td>36</td>\n",
       "    </tr>\n",
       "    <tr>\n",
       "      <th>1</th>\n",
       "      <td>Houston</td>\n",
       "      <td>2018-03-03</td>\n",
       "      <td>72</td>\n",
       "    </tr>\n",
       "    <tr>\n",
       "      <th>2</th>\n",
       "      <td>Philadelphia</td>\n",
       "      <td>2018-03-03</td>\n",
       "      <td>45</td>\n",
       "    </tr>\n",
       "    <tr>\n",
       "      <th>3</th>\n",
       "      <td>Orlando</td>\n",
       "      <td>2018-03-03</td>\n",
       "      <td>71</td>\n",
       "    </tr>\n",
       "    <tr>\n",
       "      <th>4</th>\n",
       "      <td>Dallas</td>\n",
       "      <td>2018-03-03</td>\n",
       "      <td>71</td>\n",
       "    </tr>\n",
       "    <tr>\n",
       "      <th>5</th>\n",
       "      <td>San Jose</td>\n",
       "      <td>2018-03-03</td>\n",
       "      <td>52</td>\n",
       "    </tr>\n",
       "    <tr>\n",
       "      <th>6</th>\n",
       "      <td>Seattle</td>\n",
       "      <td>2018-03-04</td>\n",
       "      <td>48</td>\n",
       "    </tr>\n",
       "    <tr>\n",
       "      <th>7</th>\n",
       "      <td>Vancouver</td>\n",
       "      <td>2018-03-04</td>\n",
       "      <td>40</td>\n",
       "    </tr>\n",
       "    <tr>\n",
       "      <th>8</th>\n",
       "      <td>Kansas City</td>\n",
       "      <td>2018-03-04</td>\n",
       "      <td>57</td>\n",
       "    </tr>\n",
       "    <tr>\n",
       "      <th>9</th>\n",
       "      <td>Los Angeles</td>\n",
       "      <td>2018-03-04</td>\n",
       "      <td>60</td>\n",
       "    </tr>\n",
       "    <tr>\n",
       "      <th>10</th>\n",
       "      <td>Columbus</td>\n",
       "      <td>2018-03-10</td>\n",
       "      <td>42</td>\n",
       "    </tr>\n",
       "    <tr>\n",
       "      <th>11</th>\n",
       "      <td>New England</td>\n",
       "      <td>2018-03-10</td>\n",
       "      <td>81</td>\n",
       "    </tr>\n",
       "    <tr>\n",
       "      <th>12</th>\n",
       "      <td>Salt Lake</td>\n",
       "      <td>2018-03-10</td>\n",
       "      <td>46</td>\n",
       "    </tr>\n",
       "    <tr>\n",
       "      <th>13</th>\n",
       "      <td>Chicago</td>\n",
       "      <td>2018-03-10</td>\n",
       "      <td>36</td>\n",
       "    </tr>\n",
       "    <tr>\n",
       "      <th>14</th>\n",
       "      <td>Houston</td>\n",
       "      <td>2018-03-10</td>\n",
       "      <td>81</td>\n",
       "    </tr>\n",
       "    <tr>\n",
       "      <th>15</th>\n",
       "      <td>New Jersey</td>\n",
       "      <td>2018-03-10</td>\n",
       "      <td>39</td>\n",
       "    </tr>\n",
       "    <tr>\n",
       "      <th>16</th>\n",
       "      <td>Orlando</td>\n",
       "      <td>2018-03-10</td>\n",
       "      <td>72</td>\n",
       "    </tr>\n",
       "    <tr>\n",
       "      <th>17</th>\n",
       "      <td>Atlanta</td>\n",
       "      <td>2018-03-11</td>\n",
       "      <td>56</td>\n",
       "    </tr>\n",
       "    <tr>\n",
       "      <th>18</th>\n",
       "      <td>NYC</td>\n",
       "      <td>2018-03-11</td>\n",
       "      <td>43</td>\n",
       "    </tr>\n",
       "    <tr>\n",
       "      <th>19</th>\n",
       "      <td>Washington, D.C.</td>\n",
       "      <td>2018-03-17</td>\n",
       "      <td>79</td>\n",
       "    </tr>\n",
       "  </tbody>\n",
       "</table>\n",
       "</div>"
      ],
      "text/plain": [
       "                City       Date max_temp_f\n",
       "0            Toronto 2018-03-03         36\n",
       "1            Houston 2018-03-03         72\n",
       "2       Philadelphia 2018-03-03         45\n",
       "3            Orlando 2018-03-03         71\n",
       "4             Dallas 2018-03-03         71\n",
       "5           San Jose 2018-03-03         52\n",
       "6            Seattle 2018-03-04         48\n",
       "7          Vancouver 2018-03-04         40\n",
       "8        Kansas City 2018-03-04         57\n",
       "9        Los Angeles 2018-03-04         60\n",
       "10          Columbus 2018-03-10         42\n",
       "11       New England 2018-03-10         81\n",
       "12         Salt Lake 2018-03-10         46\n",
       "13           Chicago 2018-03-10         36\n",
       "14           Houston 2018-03-10         81\n",
       "15        New Jersey 2018-03-10         39\n",
       "16           Orlando 2018-03-10         72\n",
       "17           Atlanta 2018-03-11         56\n",
       "18               NYC 2018-03-11         43\n",
       "19  Washington, D.C. 2018-03-17         79"
      ]
     },
     "execution_count": 12,
     "metadata": {},
     "output_type": "execute_result"
    }
   ],
   "source": [
    "weather = games[['City', 'date2']]\n",
    "print(len(temps))\n",
    "weather = weather.assign(max_temp_f = temps)\n",
    "weather = weather.rename(columns={\"date2\": \"Date\"})\n",
    "weather.head(20)"
   ]
  },
  {
   "cell_type": "code",
   "execution_count": 14,
   "metadata": {},
   "outputs": [],
   "source": [
    "weather.to_csv('weather.csv')"
   ]
  }
 ],
 "metadata": {
  "kernelspec": {
   "display_name": "Python 3",
   "language": "python",
   "name": "python3"
  },
  "language_info": {
   "codemirror_mode": {
    "name": "ipython",
    "version": 3
   },
   "file_extension": ".py",
   "mimetype": "text/x-python",
   "name": "python",
   "nbconvert_exporter": "python",
   "pygments_lexer": "ipython3",
   "version": "3.6.5"
  }
 },
 "nbformat": 4,
 "nbformat_minor": 2
}
